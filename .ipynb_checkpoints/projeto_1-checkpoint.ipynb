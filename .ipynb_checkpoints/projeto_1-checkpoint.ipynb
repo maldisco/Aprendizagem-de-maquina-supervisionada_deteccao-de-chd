{
 "cells": [
  {
   "cell_type": "markdown",
   "id": "e3dd6e0d-8197-4a7c-bcdd-0f061cfbd439",
   "metadata": {},
   "source": [
    "# Carregamento dos dados"
   ]
  },
  {
   "cell_type": "code",
   "execution_count": 1,
   "id": "b715de96-f941-4e88-a80e-17835b20ae4a",
   "metadata": {},
   "outputs": [
    {
     "data": {
      "text/html": [
       "<div>\n",
       "<style scoped>\n",
       "    .dataframe tbody tr th:only-of-type {\n",
       "        vertical-align: middle;\n",
       "    }\n",
       "\n",
       "    .dataframe tbody tr th {\n",
       "        vertical-align: top;\n",
       "    }\n",
       "\n",
       "    .dataframe thead th {\n",
       "        text-align: right;\n",
       "    }\n",
       "</style>\n",
       "<table border=\"1\" class=\"dataframe\">\n",
       "  <thead>\n",
       "    <tr style=\"text-align: right;\">\n",
       "      <th></th>\n",
       "      <th>sbp</th>\n",
       "      <th>tobacco</th>\n",
       "      <th>ldl</th>\n",
       "      <th>adiposity</th>\n",
       "      <th>famhist</th>\n",
       "      <th>typea</th>\n",
       "      <th>obesity</th>\n",
       "      <th>alcohol</th>\n",
       "      <th>age</th>\n",
       "      <th>chd</th>\n",
       "    </tr>\n",
       "  </thead>\n",
       "  <tbody>\n",
       "    <tr>\n",
       "      <th>0</th>\n",
       "      <td>160</td>\n",
       "      <td>12.00</td>\n",
       "      <td>5.73</td>\n",
       "      <td>23.11</td>\n",
       "      <td>1</td>\n",
       "      <td>49</td>\n",
       "      <td>25.30</td>\n",
       "      <td>97.20</td>\n",
       "      <td>52</td>\n",
       "      <td>1</td>\n",
       "    </tr>\n",
       "    <tr>\n",
       "      <th>1</th>\n",
       "      <td>144</td>\n",
       "      <td>0.01</td>\n",
       "      <td>4.41</td>\n",
       "      <td>28.61</td>\n",
       "      <td>0</td>\n",
       "      <td>55</td>\n",
       "      <td>28.87</td>\n",
       "      <td>2.06</td>\n",
       "      <td>63</td>\n",
       "      <td>1</td>\n",
       "    </tr>\n",
       "    <tr>\n",
       "      <th>2</th>\n",
       "      <td>118</td>\n",
       "      <td>0.08</td>\n",
       "      <td>3.48</td>\n",
       "      <td>32.28</td>\n",
       "      <td>1</td>\n",
       "      <td>52</td>\n",
       "      <td>29.14</td>\n",
       "      <td>3.81</td>\n",
       "      <td>46</td>\n",
       "      <td>0</td>\n",
       "    </tr>\n",
       "    <tr>\n",
       "      <th>3</th>\n",
       "      <td>170</td>\n",
       "      <td>7.50</td>\n",
       "      <td>6.41</td>\n",
       "      <td>38.03</td>\n",
       "      <td>1</td>\n",
       "      <td>51</td>\n",
       "      <td>31.99</td>\n",
       "      <td>24.26</td>\n",
       "      <td>58</td>\n",
       "      <td>1</td>\n",
       "    </tr>\n",
       "    <tr>\n",
       "      <th>4</th>\n",
       "      <td>134</td>\n",
       "      <td>13.60</td>\n",
       "      <td>3.50</td>\n",
       "      <td>27.78</td>\n",
       "      <td>1</td>\n",
       "      <td>60</td>\n",
       "      <td>25.99</td>\n",
       "      <td>57.34</td>\n",
       "      <td>49</td>\n",
       "      <td>1</td>\n",
       "    </tr>\n",
       "  </tbody>\n",
       "</table>\n",
       "</div>"
      ],
      "text/plain": [
       "   sbp  tobacco   ldl  adiposity  famhist  typea  obesity  alcohol  age  chd\n",
       "0  160    12.00  5.73      23.11        1     49    25.30    97.20   52    1\n",
       "1  144     0.01  4.41      28.61        0     55    28.87     2.06   63    1\n",
       "2  118     0.08  3.48      32.28        1     52    29.14     3.81   46    0\n",
       "3  170     7.50  6.41      38.03        1     51    31.99    24.26   58    1\n",
       "4  134    13.60  3.50      27.78        1     60    25.99    57.34   49    1"
      ]
     },
     "execution_count": 1,
     "metadata": {},
     "output_type": "execute_result"
    }
   ],
   "source": [
    "from pandas import read_csv\n",
    "\n",
    "url = \"./SA_heart.csv\"\n",
    "dataset = read_csv(url, header=0, usecols=[i+1 for i in range(10)])\n",
    "\n",
    "dataset.head(5)"
   ]
  },
  {
   "cell_type": "markdown",
   "id": "310b84e1-5029-45db-b7d7-42a47e0f948c",
   "metadata": {
    "tags": []
   },
   "source": [
    "# Preparação dos dados"
   ]
  },
  {
   "cell_type": "markdown",
   "id": "203daa8b-95e8-4477-8401-7d0d58b381a6",
   "metadata": {},
   "source": [
    "### Entradas, saídas e conversão de dataframe para numpy array"
   ]
  },
  {
   "cell_type": "code",
   "execution_count": 2,
   "id": "c116b2ec-d757-47a2-b2ca-b7b142dd16d7",
   "metadata": {},
   "outputs": [],
   "source": [
    "import numpy as np\n",
    "\n",
    "# extração da variável a ser predita\n",
    "y = np.array(dataset['chd'])\n",
    "dataset = dataset.drop('chd', axis=1)\n",
    "\n",
    "# armazenamento do nome de cada variável preditora para uso futuro\n",
    "X_names = list(dataset.columns)\n",
    "\n",
    "# conversão para numpy array\n",
    "X = np.array(dataset)"
   ]
  },
  {
   "cell_type": "markdown",
   "id": "a21b4aba-12e8-4240-81ae-ccb1d806afb1",
   "metadata": {},
   "source": [
    "### Separação dos dados em treino e validação"
   ]
  },
  {
   "cell_type": "code",
   "execution_count": 3,
   "id": "ed2ddbe9-2e7a-439c-b33e-e32f428b837c",
   "metadata": {},
   "outputs": [],
   "source": [
    "from sklearn.model_selection import train_test_split\n",
    "from sklearn.preprocessing import StandardScaler\n",
    "\n",
    "# 90% para treino e 10% para validação\n",
    "X_train, X_validation, Y_train, Y_validation = train_test_split(\n",
    "        X, y, test_size=0.10, random_state=1)"
   ]
  },
  {
   "cell_type": "markdown",
   "id": "ee1ce68b-704d-4056-b4c4-3f686bdb5c3c",
   "metadata": {},
   "source": [
    "# Análise estatística inicial dos dados"
   ]
  },
  {
   "cell_type": "markdown",
   "id": "fce48d0c-6441-4901-ad75-c7f5a860f505",
   "metadata": {},
   "source": [
    "### Quantidades médias"
   ]
  },
  {
   "cell_type": "code",
   "execution_count": 4,
   "id": "88ef0ffe-82b1-4aa2-93ad-41860eb1cb66",
   "metadata": {},
   "outputs": [
    {
     "data": {
      "image/png": "[encoded data removed]",
      "text/plain": [
       "<Figure size 1224x360 with 1 Axes>"
      ]
     },
     "metadata": {
      "needs_background": "light"
     },
     "output_type": "display_data"
    }
   ],
   "source": [
    "from matplotlib import pyplot\n",
    "\n",
    "pyplot.figure(figsize=(17,5))\n",
    "pyplot.bar([i+1 for i in range(9)], [f.mean() for f in X.transpose()], tick_label=X_names, width=0.8)\n",
    "pyplot.xlabel('Variáveis')\n",
    "pyplot.ylabel('Média')\n",
    "pyplot.show()"
   ]
  },
  {
   "cell_type": "markdown",
   "id": "967aba0e-3cf1-40b9-97b0-31a7a7238ad7",
   "metadata": {},
   "source": [
    "### Desvio padrão"
   ]
  },
  {
   "cell_type": "code",
   "execution_count": 5,
   "id": "0e6fcf7d-1d34-4490-89c9-5d82c5f15748",
   "metadata": {},
   "outputs": [
    {
     "data": {
      "image/png": "[encoded data removed]",
      "text/plain": [
       "<Figure size 1224x360 with 1 Axes>"
      ]
     },
     "metadata": {
      "needs_background": "light"
     },
     "output_type": "display_data"
    }
   ],
   "source": [
    "pyplot.figure(figsize=(17,5))\n",
    "pyplot.bar([i+1 for i in range(9)], [f.std() for f in X.transpose()], tick_label=X_names, width=0.8)\n",
    "pyplot.xlabel('Variáveis')\n",
    "pyplot.ylabel('Desvio padrão')\n",
    "pyplot.show()"
   ]
  },
  {
   "cell_type": "markdown",
   "id": "1810851c-d422-4f48-a679-fc9c305b6b34",
   "metadata": {},
   "source": [
    "# Função de avaliação dos algoritmos"
   ]
  },
  {
   "cell_type": "markdown",
   "id": "e78fe4d0-2b43-471f-85af-81d67554ad12",
   "metadata": {},
   "source": [
    "Imprimirá uma matriz de confusão e um gráfico ROC (juntamente do valor de AUC)."
   ]
  },
  {
   "cell_type": "code",
   "execution_count": 6,
   "id": "86b0faef-786a-4703-ba31-d3fb273fb213",
   "metadata": {},
   "outputs": [],
   "source": [
    "from sklearn.metrics import ConfusionMatrixDisplay\n",
    "from sklearn.metrics import roc_curve\n",
    "from sklearn.metrics import auc\n",
    "from sklearn.metrics import RocCurveDisplay\n",
    "\n",
    "def evaluate(Y_validation, predictions):\n",
    "    # Matriz de confusão\n",
    "    # fonte:  https://scikit-learn.org/stable/modules/generated/sklearn.metrics.ConfusionMatrixDisplay.html#sklearn.metrics.ConfusionMatrixDisplay.from_predictions\n",
    "    ConfusionMatrixDisplay.from_predictions(Y_validation, predictions)\n",
    "    pyplot.show()\n",
    "\n",
    "    # Curva ROC AUC\n",
    "    # fonte: https://scikit-learn.org/stable/modules/generated/sklearn.metrics.RocCurveDisplay.html\n",
    "    fpr, tpr, thresholds = roc_curve(Y_validation, predictions)\n",
    "    \n",
    "    # cálculo do valor AUC\n",
    "    roc_auc = auc(fpr, tpr)\n",
    "    \n",
    "    # plotagem da curva ROC AUC\n",
    "    display = RocCurveDisplay(fpr=fpr, tpr=tpr, roc_auc=roc_auc)\n",
    "    display.plot()\n",
    "    pyplot.show()"
   ]
  },
  {
   "cell_type": "markdown",
   "id": "536e7bcf-e2db-4379-b53b-5f6826707b19",
   "metadata": {},
   "source": [
    "# Algoritmos"
   ]
  },
  {
   "cell_type": "markdown",
   "id": "f05d7d69-23ab-4670-b706-7406363b93d5",
   "metadata": {},
   "source": [
    "## 1 - Árvore de decisão (ID3)"
   ]
  },
  {
   "cell_type": "code",
   "execution_count": 7,
   "id": "6c3fadb6-e237-4905-8d04-9a93fbd2ea52",
   "metadata": {},
   "outputs": [
    {
     "name": "stdout",
     "output_type": "stream",
     "text": [
      "0.5816402116402116\n"
     ]
    }
   ],
   "source": [
    "from sklearn.tree import DecisionTreeClassifier\n",
    "from sklearn.model_selection import cross_val_score\n",
    "from sklearn.model_selection import StratifiedKFold\n",
    "\n",
    "# Árvore de decisão (ID3) com 10 rodadas de validação cruzada\n",
    "# fonte: https://machinelearningmastery.com/machine-learning-in-python-step-by-step/\n",
    "\n",
    "# instanciação do modelo\n",
    "model = DecisionTreeClassifier(criterion='entropy')\n",
    "\n",
    "# treinamento do modelo\n",
    "model.fit(X_train, Y_train)\n",
    "\n",
    "# validação cruzada em 10 rodadas\n",
    "kfold = StratifiedKFold(n_splits=10, random_state=1, shuffle=True)\n",
    "cv_results = cross_val_score(model, X_train, Y_train, cv=kfold, scoring='roc_auc')\n",
    "\n",
    "# predições \n",
    "predictions = model.predict(X_validation)"
   ]
  },
  {
   "cell_type": "markdown",
   "id": "2c0f4c42-9c8c-4df4-9b3a-0db8ca14dc51",
   "metadata": {},
   "source": [
    "#### Variáveis mais importantes"
   ]
  },
  {
   "cell_type": "code",
   "execution_count": 8,
   "id": "659f4b4b-6737-4568-81dd-9bf1bb72ec1b",
   "metadata": {},
   "outputs": [
    {
     "name": "stdout",
     "output_type": "stream",
     "text": [
      "age                  Importância: 0.21\n",
      "ldl                  Importância: 0.13\n",
      "typea                Importância: 0.13\n",
      "obesity              Importância: 0.13\n",
      "alcohol              Importância: 0.13\n",
      "sbp                  Importância: 0.09\n",
      "tobacco              Importância: 0.09\n",
      "adiposity            Importância: 0.05\n",
      "famhist              Importância: 0.04\n"
     ]
    }
   ],
   "source": [
    "# Impressão das duas variáveis mais importantes\n",
    "# fonte: https://towardsdatascience.com/random-forest-in-python-24d0893d51c0\n",
    "\n",
    "# lista numérica de variáveis mais importantes gerada pelo scikitlearn \n",
    "importances = list(model.feature_importances_)\n",
    "\n",
    "# lista de tuplas com nomes da variável e sua importancia\n",
    "X_importances = [(X, round(importance, 2)) for X, importance in zip(X_names, importances)]\n",
    "\n",
    "# ordenação\n",
    "X_importances = sorted(X_importances, key = lambda x: x[1], reverse = True)\n",
    "\n",
    "# impressão das duas variáveis mais importantes\n",
    "for par in X_importances:\n",
    "    print('{:20} Importância: {}'.format(*par))"
   ]
  },
  {
   "cell_type": "markdown",
   "id": "bed3fc4c-dc1d-4d2d-82dc-c6c28780b30e",
   "metadata": {},
   "source": [
    "#### Resultados para avaliação"
   ]
  },
  {
   "cell_type": "code",
   "execution_count": 9,
   "id": "ca6c88b6-9bcf-41a8-b409-bc9fc7fd67e2",
   "metadata": {},
   "outputs": [
    {
     "data": {
      "image/png": "[encoded data removed]",
      "text/plain": [
       "<Figure size 432x288 with 2 Axes>"
      ]
     },
     "metadata": {
      "needs_background": "light"
     },
     "output_type": "display_data"
    },
    {
     "data": {
      "image/png": "[encoded data removed]",
      "text/plain": [
       "<Figure size 432x288 with 1 Axes>"
      ]
     },
     "metadata": {
      "needs_background": "light"
     },
     "output_type": "display_data"
    }
   ],
   "source": [
    "evaluate(Y_validation, predictions)"
   ]
  },
  {
   "cell_type": "markdown",
   "id": "d9a18402-0477-495b-b2ed-5c27601045a7",
   "metadata": {
    "tags": []
   },
   "source": [
    "### Melhorando o modelo"
   ]
  },
  {
   "cell_type": "code",
   "execution_count": 10,
   "id": "618754fe-e91c-4b5f-b5f4-7fa854a8bb81",
   "metadata": {
    "tags": []
   },
   "outputs": [
    {
     "name": "stdout",
     "output_type": "stream",
     "text": [
      "0.6119047619047618\n"
     ]
    }
   ],
   "source": [
    "# guardando nome das colunas com 5% de importância ou menos\n",
    "least_important = []\n",
    "for X in X_importances:\n",
    "    if X[1] <= 0.05:\n",
    "        least_important.append(X[0])\n",
    "\n",
    "# retirando as colunas do conjunto de dados\n",
    "limited_dataset = dataset.drop(least_important, axis=1)\n",
    "\n",
    "# extrair novamente as variáveis preditoras com seus nomes\n",
    "new_X_names = list(limited_dataset.columns)\n",
    "new_X = np.array(limited_dataset)\n",
    "\n",
    "# 90% para treino e 10% para validação\n",
    "new_X_train, new_X_validation, new_Y_train, new_Y_validation = train_test_split(\n",
    "        new_X, y, test_size=0.10, random_state=1)\n",
    "\n",
    "# treinamento do modelo\n",
    "model.fit(new_X_train, new_Y_train)\n",
    "\n",
    "# validação cruzada em 10 rodadas\n",
    "kfold = StratifiedKFold(n_splits=10, random_state=1, shuffle=True)\n",
    "cv_results = cross_val_score(model, new_X_train, new_Y_train, cv=kfold)\n",
    "\n",
    "# predições \n",
    "predictions = model.predict(new_X_validation)"
   ]
  },
  {
   "cell_type": "markdown",
   "id": "0fef197b-d88d-4c59-8531-3491c92d0976",
   "metadata": {},
   "source": [
    "#### Variáveis mais importantes"
   ]
  },
  {
   "cell_type": "code",
   "execution_count": 11,
   "id": "c1e827cf-f1a9-4d14-a83b-d497b2136339",
   "metadata": {},
   "outputs": [
    {
     "name": "stdout",
     "output_type": "stream",
     "text": [
      "ldl                  Importância: 0.19\n",
      "age                  Importância: 0.18\n",
      "obesity              Importância: 0.16\n",
      "typea                Importância: 0.15\n",
      "tobacco              Importância: 0.12\n",
      "alcohol              Importância: 0.1\n",
      "sbp                  Importância: 0.09\n"
     ]
    }
   ],
   "source": [
    "# Impressão das duas variáveis mais importantes\n",
    "# fonte: https://towardsdatascience.com/random-forest-in-python-24d0893d51c0\n",
    "\n",
    "# lista numérica de variáveis mais importantes gerada pelo scikitlearn \n",
    "importances = list(model.feature_importances_)\n",
    "\n",
    "# lista de tuplas com nomes da variável e sua importancia\n",
    "X_importances = [(X, round(importance, 2)) for X, importance in zip(new_X_names, importances)]\n",
    "\n",
    "# ordenação\n",
    "X_importances = sorted(X_importances, key = lambda x: x[1], reverse = True)\n",
    "\n",
    "# impressão das duas variáveis mais importantes\n",
    "for par in X_importances:\n",
    "    print('{:20} Importância: {}'.format(*par))"
   ]
  },
  {
   "cell_type": "markdown",
   "id": "6aea0c30-8f27-4c85-af2e-7853d95a988b",
   "metadata": {},
   "source": [
    "#### Resultados para avaliação"
   ]
  },
  {
   "cell_type": "code",
   "execution_count": 12,
   "id": "b945879d-9f9c-498c-85ad-c7ec8dd014f0",
   "metadata": {},
   "outputs": [
    {
     "data": {
      "image/png": "[encoded data removed]",
      "text/plain": [
       "<Figure size 432x288 with 2 Axes>"
      ]
     },
     "metadata": {
      "needs_background": "light"
     },
     "output_type": "display_data"
    },
    {
     "data": {
      "image/png": "[encoded data removed]",
      "text/plain": [
       "<Figure size 432x288 with 1 Axes>"
      ]
     },
     "metadata": {
      "needs_background": "light"
     },
     "output_type": "display_data"
    }
   ],
   "source": [
    "evaluate(new_Y_validation, predictions)"
   ]
  },
  {
   "cell_type": "markdown",
   "id": "17d8b034-7523-411f-a986-e52c4b329713",
   "metadata": {},
   "source": [
    "## 2 - Floresta randômica utilizando todas as variáveis preditoras"
   ]
  },
  {
   "cell_type": "code",
   "execution_count": 13,
   "id": "c7aaebb0-b824-44ad-98a6-6368364e2e55",
   "metadata": {},
   "outputs": [
    {
     "name": "stdout",
     "output_type": "stream",
     "text": [
      "0.7132404181184668\n"
     ]
    }
   ],
   "source": [
    "from sklearn.ensemble import RandomForestClassifier\n",
    "    \n",
    "# Floresta randômica com 10 rodadas de validação cruzada\n",
    "# fonte: https://scikit-learn.org/stable/modules/generated/sklearn.ensemble.RandomForestClassifier.html\n",
    "\n",
    "# instanciação do modelo\n",
    "# com 100 árvores e utilizando todas as variáveis preditoras\n",
    "model = RandomForestClassifier(\n",
    "    criterion='entropy', n_estimators=100, max_features=None)\n",
    "\n",
    "# treinamento dos dados\n",
    "model.fit(X_train, Y_train)\n",
    "\n",
    "# validação cruzada\n",
    "kfold = StratifiedKFold(n_splits=10, random_state=1, shuffle=True)\n",
    "cv_results = cross_val_score(model, X_train, Y_train, cv=kfold)\n",
    "\n",
    "# predições\n",
    "predictions = model.predict(X_validation)"
   ]
  },
  {
   "cell_type": "markdown",
   "id": "b61bc4c3-74c9-4833-a7be-914e47f730c9",
   "metadata": {
    "tags": []
   },
   "source": [
    "#### Variáveis mais importantes"
   ]
  },
  {
   "cell_type": "code",
   "execution_count": 14,
   "id": "d2ed05e0-0d6b-4152-8a69-9bc0c2b1569a",
   "metadata": {},
   "outputs": [
    {
     "name": "stdout",
     "output_type": "stream",
     "text": [
      "age                  Importância: 0.19\n",
      "tobacco              Importância: 0.13\n",
      "ldl                  Importância: 0.13\n",
      "typea                Importância: 0.12\n",
      "adiposity            Importância: 0.11\n",
      "obesity              Importância: 0.11\n",
      "sbp                  Importância: 0.1\n",
      "alcohol              Importância: 0.09\n",
      "famhist              Importância: 0.04\n"
     ]
    }
   ],
   "source": [
    "# Impressão das duas variáveis mais importantes\n",
    "# fonte: https://towardsdatascience.com/random-forest-in-python-24d0893d51c0\n",
    "\n",
    "# lista numérica de variáveis mais importantes gerada pelo scikitlearn \n",
    "importances = list(model.feature_importances_)\n",
    "\n",
    "# lista de tuplas com nomes da variável e sua importancia\n",
    "X_importances = [(X, round(importance, 2)) for X, importance in zip(X_names, importances)]\n",
    "\n",
    "# ordenação\n",
    "X_importances = sorted(X_importances, key = lambda x: x[1], reverse = True)\n",
    "\n",
    "# impressão das duas variáveis mais importantes\n",
    "for par in X_importances:\n",
    "    print('{:20} Importância: {}'.format(*par))"
   ]
  },
  {
   "cell_type": "markdown",
   "id": "1fc5a8e3-fa87-4897-aa4b-c3ced8f38a97",
   "metadata": {},
   "source": [
    "#### Resultados para avaliação"
   ]
  },
  {
   "cell_type": "code",
   "execution_count": 15,
   "id": "1fd52dfc-d0a6-42a2-b882-39cf8699ecea",
   "metadata": {},
   "outputs": [
    {
     "data": {
      "image/png": "[encoded data removed]",
      "text/plain": [
       "<Figure size 432x288 with 2 Axes>"
      ]
     },
     "metadata": {
      "needs_background": "light"
     },
     "output_type": "display_data"
    },
    {
     "data": {
      "image/png": "[encoded data removed]",
      "text/plain": [
       "<Figure size 432x288 with 1 Axes>"
      ]
     },
     "metadata": {
      "needs_background": "light"
     },
     "output_type": "display_data"
    }
   ],
   "source": [
    "evaluate(Y_validation, predictions)"
   ]
  },
  {
   "cell_type": "markdown",
   "id": "0eeea5df-8a07-4cb8-9175-910cb2de5054",
   "metadata": {},
   "source": [
    "### Melhorando o modelo"
   ]
  },
  {
   "cell_type": "code",
   "execution_count": 16,
   "id": "819b9374-4ad7-4463-aac7-aa67659d77dc",
   "metadata": {},
   "outputs": [
    {
     "name": "stdout",
     "output_type": "stream",
     "text": [
      "0.6672473867595818\n"
     ]
    }
   ],
   "source": [
    "# guardando nome das colunas com 5% de importância ou menos\n",
    "least_important = []\n",
    "for X in X_importances:\n",
    "    if X[1] <= 0.1:\n",
    "        least_important.append(X[0])\n",
    "\n",
    "# retirando as colunas do conjunto de dados\n",
    "limited_dataset = dataset.drop(least_important, axis=1)\n",
    "\n",
    "# extraindo novamente as variáveis preditoras com seus nomes\n",
    "new_X_names = list(limited_dataset.columns)\n",
    "new_X = np.array(limited_dataset)\n",
    "\n",
    "# 90% para treino e 10% para validação\n",
    "new_X_train, new_X_validation, new_Y_train, new_Y_validation = train_test_split(\n",
    "        new_X, y, test_size=0.10, random_state=1)\n",
    "\n",
    "# treinamento do modelo\n",
    "model.fit(new_X_train, new_Y_train)\n",
    "\n",
    "# validação cruzada em 10 rodadas\n",
    "kfold = StratifiedKFold(n_splits=10, random_state=1, shuffle=True)\n",
    "cv_results = cross_val_score(model, new_X_train, new_Y_train, cv=kfold)\n",
    "\n",
    "# predições \n",
    "predictions = model.predict(new_X_validation)"
   ]
  },
  {
   "cell_type": "markdown",
   "id": "353f2a1c-c0ab-47e4-a909-e4b9d2dfe77d",
   "metadata": {},
   "source": [
    "#### Variáveis mais importantes"
   ]
  },
  {
   "cell_type": "code",
   "execution_count": 17,
   "id": "a46f638f-2e26-41fd-bff4-e52145e6cce7",
   "metadata": {},
   "outputs": [
    {
     "name": "stdout",
     "output_type": "stream",
     "text": [
      "age                  Importância: 0.21\n",
      "ldl                  Importância: 0.18\n",
      "tobacco              Importância: 0.17\n",
      "adiposity            Importância: 0.15\n",
      "typea                Importância: 0.15\n",
      "obesity              Importância: 0.14\n"
     ]
    }
   ],
   "source": [
    "# Impressão das duas variáveis mais importantes\n",
    "# fonte: https://towardsdatascience.com/random-forest-in-python-24d0893d51c0\n",
    "\n",
    "# lista numérica de variáveis mais importantes gerada pelo scikitlearn \n",
    "importances = list(model.feature_importances_)\n",
    "\n",
    "# lista de tuplas com nomes da variável e sua importancia\n",
    "X_importances = [(X, round(importance, 2)) for X, importance in zip(new_X_names, importances)]\n",
    "\n",
    "# ordenação\n",
    "X_importances = sorted(X_importances, key = lambda x: x[1], reverse = True)\n",
    "\n",
    "# impressão das duas variáveis mais importantes\n",
    "for par in X_importances:\n",
    "    print('{:20} Importância: {}'.format(*par))"
   ]
  },
  {
   "cell_type": "markdown",
   "id": "a2243664-ff09-42d4-bcb7-ddea90462210",
   "metadata": {},
   "source": [
    "#### Resultados para avaliação"
   ]
  },
  {
   "cell_type": "code",
   "execution_count": 18,
   "id": "532140d7-d340-4b46-90b1-088fb2d11b2a",
   "metadata": {},
   "outputs": [
    {
     "data": {
      "image/png": "[encoded data removed]",
      "text/plain": [
       "<Figure size 432x288 with 2 Axes>"
      ]
     },
     "metadata": {
      "needs_background": "light"
     },
     "output_type": "display_data"
    },
    {
     "data": {
      "image/png": "[encoded data removed]",
      "text/plain": [
       "<Figure size 432x288 with 1 Axes>"
      ]
     },
     "metadata": {
      "needs_background": "light"
     },
     "output_type": "display_data"
    }
   ],
   "source": [
    "evaluate(new_Y_validation, predictions)"
   ]
  },
  {
   "cell_type": "markdown",
   "id": "8b6f0ec4-a1ba-4c2d-ba4f-c0a5b3fa281d",
   "metadata": {},
   "source": [
    "## 3 - Floresta randômica utilizando o quadrado das variáveis preditoras"
   ]
  },
  {
   "cell_type": "code",
   "execution_count": 19,
   "id": "558b6483-a413-4508-a311-ec0f3c9a9f51",
   "metadata": {},
   "outputs": [
    {
     "name": "stdout",
     "output_type": "stream",
     "text": [
      "0.698780487804878\n"
     ]
    }
   ],
   "source": [
    "from sklearn.model_selection import StratifiedKFold\n",
    "\n",
    "# instanciação do modelo\n",
    "model = RandomForestClassifier(criterion='entropy', random_state=1, n_estimators=100, max_features='sqrt')\n",
    "\n",
    "# treinamento dos dados\n",
    "model.fit(X_train, Y_train)\n",
    "\n",
    "# validação cruzada\n",
    "kfold = StratifiedKFold(n_splits=10, random_state=1, shuffle=True)\n",
    "cv_results = cross_val_score(model, X_train, Y_train, cv=kfold)\n",
    "\n",
    "# predições\n",
    "predictions = model.predict(X_validation)"
   ]
  },
  {
   "cell_type": "markdown",
   "id": "345f4aa7-fb2f-4f03-a926-3a5567cd507c",
   "metadata": {},
   "source": [
    "#### Variáveis mais importantes"
   ]
  },
  {
   "cell_type": "code",
   "execution_count": 20,
   "id": "f42e4f87-23fb-474c-821a-70f90eb1e1cd",
   "metadata": {},
   "outputs": [
    {
     "name": "stdout",
     "output_type": "stream",
     "text": [
      "age                  Importância: 0.16\n",
      "tobacco              Importância: 0.14\n",
      "ldl                  Importância: 0.14\n",
      "adiposity            Importância: 0.12\n",
      "sbp                  Importância: 0.11\n",
      "typea                Importância: 0.11\n",
      "obesity              Importância: 0.1\n",
      "alcohol              Importância: 0.09\n",
      "famhist              Importância: 0.04\n"
     ]
    }
   ],
   "source": [
    "# Impressão das duas variáveis mais importantes\n",
    "# fonte: https://towardsdatascience.com/random-forest-in-python-24d0893d51c0\n",
    "\n",
    "# lista numérica de variáveis mais importantes gerada pelo scikitlearn \n",
    "importances = list(model.feature_importances_)\n",
    "\n",
    "# lista de tuplas com nomes da variável e sua importancia\n",
    "X_importances = [(X, round(importance, 2)) for X, importance in zip(X_names, importances)]\n",
    "\n",
    "# ordenação\n",
    "X_importances = sorted(X_importances, key = lambda x: x[1], reverse = True)\n",
    "\n",
    "# impressão das duas variáveis mais importantes\n",
    "for par in X_importances:\n",
    "    print('{:20} Importância: {}'.format(*par))"
   ]
  },
  {
   "cell_type": "markdown",
   "id": "4c49bc55-bef8-4399-a968-48f192b9d274",
   "metadata": {},
   "source": [
    "#### Resultados para avaliação"
   ]
  },
  {
   "cell_type": "code",
   "execution_count": 21,
   "id": "37b02bc2-fa54-4e7a-92f9-6a0f1f2c2651",
   "metadata": {},
   "outputs": [
    {
     "data": {
      "image/png": "[encoded data removed]",
      "text/plain": [
       "<Figure size 432x288 with 2 Axes>"
      ]
     },
     "metadata": {
      "needs_background": "light"
     },
     "output_type": "display_data"
    },
    {
     "data": {
      "image/png": "[encoded data removed]",
      "text/plain": [
       "<Figure size 432x288 with 1 Axes>"
      ]
     },
     "metadata": {
      "needs_background": "light"
     },
     "output_type": "display_data"
    }
   ],
   "source": [
    "evaluate(Y_validation, predictions)"
   ]
  },
  {
   "cell_type": "markdown",
   "id": "8c68335c-a883-4e46-ba6e-436ec7fdcd86",
   "metadata": {
    "tags": []
   },
   "source": [
    "### Melhorando o modelo"
   ]
  },
  {
   "cell_type": "code",
   "execution_count": 22,
   "id": "95e77615-ac48-4e7c-8ee2-917ac4c159b1",
   "metadata": {
    "tags": []
   },
   "outputs": [
    {
     "name": "stdout",
     "output_type": "stream",
     "text": [
      "0.6985774124464601\n"
     ]
    }
   ],
   "source": [
    "# guardando nome das colunas com 5% de importância ou menos\n",
    "least_important = []\n",
    "for X in X_importances:\n",
    "    if X[1] <= 0.1:\n",
    "        least_important.append(X[0])\n",
    "\n",
    "# retirando as colunas do conjunto de dados\n",
    "limited_dataset = dataset.drop(least_important, axis=1)\n",
    "\n",
    "# extraindo novamente as variáveis preditoras com seus nomes\n",
    "new_X_names = list(limited_dataset.columns)\n",
    "new_X = np.array(limited_dataset)\n",
    "\n",
    "# 90% para treino e 10% para validação\n",
    "new_X_train, new_X_validation, new_Y_train, new_Y_validation = train_test_split(\n",
    "        new_X, y, test_size=0.10, random_state=1)\n",
    "\n",
    "# treinamento do modelo\n",
    "model.fit(new_X_train, new_Y_train)\n",
    "\n",
    "# validação cruzada em 10 rodadas\n",
    "kfold = StratifiedKFold(n_splits=10, random_state=1, shuffle=True)\n",
    "cv_results = cross_val_score(model, new_X_train, new_Y_train, cv=kfold, scoring='roc_auc')\n",
    "\n",
    "# predições \n",
    "predictions = model.predict(new_X_validation)"
   ]
  },
  {
   "cell_type": "markdown",
   "id": "d2121b87-0c35-432f-8a04-0ff0b274c8ad",
   "metadata": {},
   "source": [
    "#### Resultados para avaliação"
   ]
  },
  {
   "cell_type": "code",
   "execution_count": 23,
   "id": "140942e3-e91c-437d-8663-64180e4c45a0",
   "metadata": {},
   "outputs": [
    {
     "data": {
      "image/png": "[encoded data removed]",
      "text/plain": [
       "<Figure size 432x288 with 2 Axes>"
      ]
     },
     "metadata": {
      "needs_background": "light"
     },
     "output_type": "display_data"
    },
    {
     "data": {
      "image/png": "[encoded data removed]",
      "text/plain": [
       "<Figure size 432x288 with 1 Axes>"
      ]
     },
     "metadata": {
      "needs_background": "light"
     },
     "output_type": "display_data"
    }
   ],
   "source": [
    "evaluate(new_Y_validation, predictions)"
   ]
  },
  {
   "cell_type": "code",
   "execution_count": 24,
   "id": "07f831dd-8566-4897-857f-7a875d2e16fb",
   "metadata": {},
   "outputs": [
    {
     "name": "stdout",
     "output_type": "stream",
     "text": [
      "ldl                  Importância: 0.19\n",
      "typea                Importância: 0.18\n",
      "tobacco              Importância: 0.17\n",
      "adiposity            Importância: 0.17\n",
      "sbp                  Importância: 0.15\n",
      "famhist              Importância: 0.14\n"
     ]
    }
   ],
   "source": [
    "# Impressão das duas variáveis mais importantes\n",
    "# fonte: https://towardsdatascience.com/random-forest-in-python-24d0893d51c0\n",
    "\n",
    "# lista numérica de variáveis mais importantes gerada pelo scikitlearn \n",
    "importances = list(model.feature_importances_)\n",
    "\n",
    "# lista de tuplas com nomes da variável e sua importancia\n",
    "X_importances = [(X, round(importance, 2)) for X, importance in zip(X_names, importances)]\n",
    "\n",
    "# ordenação\n",
    "X_importances = sorted(X_importances, key = lambda x: x[1], reverse = True)\n",
    "\n",
    "# impressão das duas variáveis mais importantes\n",
    "for par in X_importances:\n",
    "    print('{:20} Importância: {}'.format(*par))"
   ]
  }
 ],
 "metadata": {
  "kernelspec": {
   "display_name": "Python 3 (ipykernel)",
   "language": "python",
   "name": "python3"
  },
  "language_info": {
   "codemirror_mode": {
    "name": "ipython",
    "version": 3
   },
   "file_extension": ".py",
   "mimetype": "text/x-python",
   "name": "python",
   "nbconvert_exporter": "python",
   "pygments_lexer": "ipython3",
   "version": "3.9.7"
  }
 },
 "nbformat": 4,
 "nbformat_minor": 5
}
